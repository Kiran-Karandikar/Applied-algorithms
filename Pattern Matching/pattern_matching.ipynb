{
 "cells": [
  {
   "cell_type": "code",
   "execution_count": 1,
   "metadata": {},
   "outputs": [],
   "source": [
    "import random\n",
    "import string\n",
    "import time"
   ]
  },
  {
   "cell_type": "markdown",
   "metadata": {},
   "source": [
    "### Generate random string by letter set and size"
   ]
  },
  {
   "cell_type": "code",
   "execution_count": 2,
   "metadata": {},
   "outputs": [],
   "source": [
    "def generate_random_strings(letters, size):\n",
    "\treturn ''.join(random.choice(letters) for i in range(size))"
   ]
  },
  {
   "cell_type": "markdown",
   "metadata": {},
   "source": [
    "### Brute force"
   ]
  },
  {
   "cell_type": "code",
   "execution_count": 8,
   "metadata": {},
   "outputs": [],
   "source": [
    "# Brute force\n",
    "def find_brute(T, P):\n",
    "\tn, m = len(T), len(P)\n",
    "\t# every starting position\n",
    "\tfor i in range(n - m + 1):\n",
    "\t\tk = 0\n",
    "\t\t# conduct O(k) comparisons\n",
    "\t\twhile k < m and T [i + k] == P [k]:\n",
    "\t\t\tk += 1\n",
    "\t\tif k == m:\n",
    "\t\t\treturn i\n",
    "\treturn -1"
   ]
  },
  {
   "cell_type": "markdown",
   "metadata": {},
   "source": [
    "### Kiran -> Brute Force"
   ]
  },
  {
   "cell_type": "code",
   "execution_count": 13,
   "metadata": {},
   "outputs": [],
   "source": [
    "def find_by_brute(test_string, pattern):\n",
    "\tl_ts, l_p = len(test_string), len(pattern)\n",
    "\tfor i in range(l_ts - l_p + 1):\n",
    "\t\tfor c_index in range(l_p):\n",
    "\t\t\tif pattern [c_index] != test_string [i + c_index]:\n",
    "\t\t\t\tbreak\n",
    "\t\telse:\n",
    "\t\t\treturn i\n",
    "\treturn -1"
   ]
  },
  {
   "cell_type": "markdown",
   "metadata": {},
   "source": [
    "### Boyer-Moore"
   ]
  },
  {
   "cell_type": "code",
   "execution_count": 18,
   "metadata": {},
   "outputs": [],
   "source": [
    "# Boyer-Moore\n",
    "def find_boyer_moore(T, P):\n",
    "\tn, m = len(T), len(P)\n",
    "\tif m == 0:\n",
    "\t\treturn 0\n",
    "\tlast = {}\n",
    "\tfor k in range(m):\n",
    "\t\tlast [P [k]] = k\n",
    "\ti = m - 1\n",
    "\tk = m - 1\n",
    "\twhile i < n:\n",
    "\t\t# If match, decrease i,k\n",
    "\t\tif T [i] == P [k]:\n",
    "\t\t\tif k == 0:\n",
    "\t\t\t\treturn i\n",
    "\t\t\telse:\n",
    "\t\t\t\ti -= 1\n",
    "\t\t\t\tk -= 1\n",
    "\t\t# Not match, reset the positions\n",
    "\t\telse:\n",
    "\t\t\tj = last.get(T [i], -1)\n",
    "\t\t\ti += m - min(k, j + 1)\n",
    "\t\t\tk = m - 1\n",
    "\treturn -1"
   ]
  },
  {
   "cell_type": "markdown",
   "metadata": {},
   "source": [
    "### Kiran - Boyer-Moore"
   ]
  },
  {
   "cell_type": "code",
   "execution_count": 24,
   "metadata": {},
   "outputs": [],
   "source": [
    "def find_by_boyer_moore(test_string, pattern):\n",
    "\tl_ts, l_p = len(test_string), len(pattern)\n",
    "\tif l_p == 0:\n",
    "\t\treturn 0\n",
    "\tlookup = {character: index for index, character in enumerate(pattern)}\n",
    "\n",
    "\tstring_index = l_p - 1\n",
    "\tpattern_index = l_p - 1\n",
    "\n",
    "\twhile string_index < l_ts:\n",
    "\t\tif test_string [string_index] == pattern [pattern_index]:\n",
    "\t\t\tif pattern_index == 0:\n",
    "\t\t\t\treturn string_index\n",
    "\t\t\telse:\n",
    "\t\t\t\tstring_index -= 1\n",
    "\t\t\t\tpattern_index -= 1\n",
    "\t\t# Not match, reset the positions\n",
    "\t\telse:\n",
    "\t\t\ttest_Char = test_string [string_index]\n",
    "\t\t\tif test_Char in lookup:\n",
    "\t\t\t\tchar_index = lookup.get(test_Char)\n",
    "\t\t\t\tstring_index += (l_p - min(pattern_index, char_index))\n",
    "\t\t\telse:\n",
    "\t\t\t\tstring_index += l_p\n",
    "\t\t\tpattern_index = l_p - 1\n",
    "\treturn -1\n",
    "\n",
    "\n",
    "\n"
   ]
  },
  {
   "cell_type": "markdown",
   "metadata": {},
   "source": [
    "### KMP"
   ]
  },
  {
   "cell_type": "code",
   "execution_count": null,
   "metadata": {},
   "outputs": [],
   "source": [
    "# KMP failure function\n",
    "def compute_kmp_fail(P):\n",
    "\tm = len(P)\n",
    "\tfail = [0] * m\n",
    "\tj = 1\n",
    "\tk = 0\n",
    "\twhile j < m:\n",
    "\t\tif P [j] == P [k]:\n",
    "\t\t\tfail [j] = k + 1\n",
    "\t\t\tj += 1\n",
    "\t\t\tk += 1\n",
    "\t\telif k > 0:\n",
    "\t\t\tk = fail [k - 1]\n",
    "\t\telse:\n",
    "\t\t\tj += 1\n",
    "\treturn fail"
   ]
  },
  {
   "cell_type": "code",
   "execution_count": null,
   "metadata": {},
   "outputs": [],
   "source": [
    "# KMP\n",
    "def find_kmp(T, P):\n",
    "\tn, m = len(T), len(P)\n",
    "\tif m == 0:\n",
    "\t\treturn 0\n",
    "\tfail = compute_kmp_fail(P)\n",
    "\t# print(fail)\n",
    "\tj = 0\n",
    "\tk = 0\n",
    "\twhile j < n:\n",
    "\t\tif T [j] == P [k]:\n",
    "\t\t\tif k == m - 1:\n",
    "\t\t\t\treturn j - m + 1\n",
    "\t\t\tj += 1\n",
    "\t\t\tk += 1\n",
    "\t\telif k > 0:\n",
    "\t\t\tk = fail [k - 1]\n",
    "\t\telse:\n",
    "\t\t\tj += 1\n",
    "\treturn -1"
   ]
  },
  {
   "cell_type": "markdown",
   "metadata": {},
   "source": [
    "### You can write you own comparison function"
   ]
  },
  {
   "cell_type": "code",
   "execution_count": null,
   "metadata": {},
   "outputs": [],
   "source": [
    "# compare the three algorithms\n",
    "def compare(T, P):\n",
    "\tstartTime = time.time()\n",
    "\tindex = find_brute(T, P)\n",
    "\tendTime = time.time()\n",
    "\tprint(\"Brute force takes {:f}s to run and returns {:d}\".format(\n",
    "\t\tendTime - startTime, index\n",
    "\t))\n",
    "\n",
    "\tstartTime = time.time()\n",
    "\tindex = find_boyer_moore(T, P)\n",
    "\tendTime = time.time()\n",
    "\tprint(\"Boyer More takes {:f}s to run and returns {:d}\".format(\n",
    "\t\tendTime - startTime, index\n",
    "\t))\n",
    "\n",
    "\tstartTime = time.time()\n",
    "\tindex = find_kmp(T, P)\n",
    "\tendTime = time.time()\n",
    "\tprint(\"KMP takes {:f}s to run and returns {:d}\".format(endTime - startTime,\n",
    "\t                                                       index\n",
    "\t                                                       ))\n"
   ]
  },
  {
   "cell_type": "markdown",
   "metadata": {},
   "source": [
    "### Example"
   ]
  },
  {
   "cell_type": "code",
   "execution_count": 3,
   "metadata": {},
   "outputs": [],
   "source": [
    "# set random seed so you will always get the same random_string\n",
    "random.seed(100)\n",
    "# Play with letter_set\n",
    "# letter_set = \"ATGC\"\n",
    "letter_set = string.ascii_letters\n",
    "\n",
    "random_string = generate_random_strings(letter_set, 10 ** 7)"
   ]
  },
  {
   "cell_type": "code",
   "execution_count": 5,
   "metadata": {},
   "outputs": [
    {
     "ename": "NameError",
     "evalue": "name 'compare' is not defined",
     "output_type": "error",
     "traceback": [
      "\u001B[1;31m---------------------------------------------------------------------------\u001B[0m",
      "\u001B[1;31mNameError\u001B[0m                                 Traceback (most recent call last)",
      "\u001B[1;32m<ipython-input-5-3d522eb0b2c6>\u001B[0m in \u001B[0;36m<module>\u001B[1;34m\u001B[0m\n\u001B[0;32m      3\u001B[0m \u001B[1;31m# append pattern to the end of string\u001B[0m\u001B[1;33m\u001B[0m\u001B[1;33m\u001B[0m\u001B[1;33m\u001B[0m\u001B[0m\n\u001B[0;32m      4\u001B[0m \u001B[0mtest_string\u001B[0m \u001B[1;33m=\u001B[0m \u001B[0mrandom_string\u001B[0m \u001B[1;33m+\u001B[0m \u001B[0mpattern\u001B[0m\u001B[1;33m\u001B[0m\u001B[1;33m\u001B[0m\u001B[0m\n\u001B[1;32m----> 5\u001B[1;33m \u001B[0mcompare\u001B[0m\u001B[1;33m(\u001B[0m\u001B[0mtest_string\u001B[0m\u001B[1;33m,\u001B[0m \u001B[0mpattern\u001B[0m\u001B[1;33m)\u001B[0m\u001B[1;33m\u001B[0m\u001B[1;33m\u001B[0m\u001B[0m\n\u001B[0m",
      "\u001B[1;31mNameError\u001B[0m: name 'compare' is not defined"
     ]
    }
   ],
   "source": [
    "pattern = generate_random_strings(\"ATGC\", 100)\n",
    "\n",
    "# append pattern to the end of string\n",
    "test_string = random_string + pattern\n",
    "compare(test_string, pattern)"
   ]
  },
  {
   "cell_type": "markdown",
   "metadata": {},
   "source": [
    "## Have fun with the three algorithms\n",
    "### Understand each algorithm\n",
    "- read algorithm implementations\n",
    "\n",
    "### Thins you can change\n",
    "- Letter set: small set (eg \"ATGC\") vs large set (eg. all letters string.letters)\n",
    "- Pattern: random string vs string with certain pattern\n",
    "    - pattern size\n",
    "    - kmp failure function\n",
    "    \n",
    "### Explore\n",
    "- When Boyer-Moore is fastest\n",
    "- When Boyer-Moore is slowest\n",
    "- When KMP is fastest"
   ]
  },
  {
   "cell_type": "code",
   "execution_count": 10,
   "metadata": {},
   "outputs": [],
   "source": [
    "index = find_brute(test_string, pattern)\n",
    "index1 = find_by_brute(test_string, pattern)"
   ]
  },
  {
   "cell_type": "code",
   "execution_count": 11,
   "metadata": {},
   "outputs": [
    {
     "data": {
      "text/plain": [
       "10000000"
      ]
     },
     "execution_count": 11,
     "metadata": {},
     "output_type": "execute_result"
    }
   ],
   "source": [
    "index\n"
   ]
  },
  {
   "cell_type": "code",
   "execution_count": 14,
   "metadata": {},
   "outputs": [],
   "source": [
    "index1 = find_by_brute(test_string, pattern)"
   ]
  },
  {
   "cell_type": "code",
   "execution_count": 15,
   "metadata": {},
   "outputs": [
    {
     "data": {
      "text/plain": [
       "10000000"
      ]
     },
     "execution_count": 15,
     "metadata": {},
     "output_type": "execute_result"
    }
   ],
   "source": [
    "index1"
   ]
  },
  {
   "cell_type": "code",
   "execution_count": 26,
   "metadata": {},
   "outputs": [
    {
     "data": {
      "text/plain": [
       "10000000"
      ]
     },
     "execution_count": 26,
     "metadata": {},
     "output_type": "execute_result"
    }
   ],
   "source": [
    "index = find_boyer_moore(test_string, pattern)\n",
    "index"
   ]
  },
  {
   "cell_type": "code",
   "execution_count": 27,
   "metadata": {},
   "outputs": [
    {
     "data": {
      "text/plain": [
       "-1"
      ]
     },
     "execution_count": 27,
     "metadata": {},
     "output_type": "execute_result"
    }
   ],
   "source": [
    "index1 = find_by_boyer_moore(test_string, pattern)\n",
    "index1"
   ]
  },
  {
   "cell_type": "code",
   "execution_count": null,
   "metadata": {},
   "outputs": [],
   "source": []
  }
 ],
 "metadata": {
  "kernelspec": {
   "display_name": "Python 3",
   "language": "python",
   "name": "python3"
  },
  "language_info": {
   "codemirror_mode": {
    "name": "ipython",
    "version": 3
   },
   "file_extension": ".py",
   "mimetype": "text/x-python",
   "name": "python",
   "nbconvert_exporter": "python",
   "pygments_lexer": "ipython3",
   "version": "3.8.8"
  }
 },
 "nbformat": 4,
 "nbformat_minor": 2
}