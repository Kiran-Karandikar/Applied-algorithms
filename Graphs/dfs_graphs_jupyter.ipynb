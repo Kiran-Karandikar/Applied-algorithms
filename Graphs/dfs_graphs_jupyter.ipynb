{
 "cells": [
  {
   "cell_type": "code",
   "execution_count": 6,
   "metadata": {},
   "outputs": [],
   "source": [
    "import random"
   ]
  },
  {
   "cell_type": "code",
   "execution_count": 7,
   "metadata": {},
   "outputs": [],
   "source": [
    "class DirectedGraph:\n",
    "\tdef __init__(self, n):\n",
    "\t\tself.num_nodes = n\n",
    "\t\tself.nodes = [[] for i in range(n)]\n",
    "\n",
    "\t# edge node1 -> node2 (directed)\n",
    "\tdef insert(self, node1, node2):\n",
    "\t\tself.nodes [node1].append(node2)\n",
    "\n",
    "\tdef deleteConnection(self, node):\n",
    "\t\tself.nodes [node].clear()"
   ]
  },
  {
   "cell_type": "code",
   "execution_count": 10,
   "metadata": {},
   "outputs": [],
   "source": [
    "def dfs(graph, starting_node):\n",
    "\tvisited = [False for i in range(graph.num_nodes)]\n",
    "\n",
    "\t# Key function call\n",
    "\tdfs_recursive(graph, starting_node, visited)\n",
    "\n",
    "\t# The following lines are for demonstrating results\n",
    "\tprint(\"Starting from node {:d}, we visited {:d} nodes\".format(starting_node,\n",
    "\t                                                              sum(visited)\n",
    "\t                                                              ))\n",
    "\tvisited_nodes = []\n",
    "\tfor i in range(len(visited)):\n",
    "\t\tif visited [i]:\n",
    "\t\t\tvisited_nodes.append(i)\n",
    "\tprint(\"The following nodes were visited: \")\n",
    "\tprint(visited_nodes)\n",
    "\n",
    "\n",
    "def dfs_recursive(graph, starting_node, visited):\n",
    "    '''\n",
    "    fill in code here\n",
    "    '''\n",
    "    if not visited[starting_node]:\n",
    "        visited[starting_node] = True\n",
    "        for edge in graph.nodes[starting_node]:\n",
    "            if not visited[edge]:\n",
    "                dfs_recursive(graph,edge, visited)\n",
    "    return"
   ]
  },
  {
   "cell_type": "markdown",
   "metadata": {},
   "source": [
    "## Graph construction\n",
    "\n",
    "- 20 nodes\n",
    "- at leaset two connected componenets"
   ]
  },
  {
   "cell_type": "code",
   "execution_count": 11,
   "metadata": {},
   "outputs": [
    {
     "name": "stdout",
     "output_type": "stream",
     "text": [
      "[[4, 14, 12], [11, 13, 16], [3, 17, 14], [8, 1, 6], [7, 9, 6], [10, 15], [11, 13, 12], [14, 17, 8], [12, 3, 0], [19, 12, 4], [], [7, 14, 12], [4, 19, 17], [1, 19, 7], [19, 16, 9], [10], [11, 12, 1], [3, 9, 13], [8, 7, 13], [16, 18, 8]]\n"
     ]
    }
   ],
   "source": [
    "random.seed(100)\n",
    "\n",
    "num_nodes = 20\n",
    "graph = DirectedGraph(num_nodes)\n",
    "\n",
    "ignore_list = [5, 10, 15]\n",
    "# For each node, add three random outgoing edges\n",
    "# make sure no edge directed to node 5, 10 and 15\n",
    "for i in range(num_nodes):\n",
    "\twhile len(graph.nodes [i]) < 3:\n",
    "\t\tnode = random.randint(0, num_nodes - 1)\n",
    "\t\tif node != i and (node not in graph.nodes [i]) and (\n",
    "\t\t\t\tnode not in ignore_list):\n",
    "\t\t\tgraph.insert(i, node)\n",
    "\n",
    "# pick node 5, 10, 15 and remove their connection\n",
    "graph.deleteConnection(5)\n",
    "graph.deleteConnection(10)\n",
    "graph.deleteConnection(15)\n",
    "\n",
    "# add edges among the three nodes so we have at least two connected components\n",
    "graph.insert(5, 10)\n",
    "graph.insert(5, 15)\n",
    "graph.insert(15, 10)\n",
    "\n",
    "print(graph.nodes)"
   ]
  },
  {
   "cell_type": "markdown",
   "metadata": {},
   "source": [
    "## Test code"
   ]
  },
  {
   "cell_type": "code",
   "execution_count": 12,
   "metadata": {},
   "outputs": [
    {
     "name": "stdout",
     "output_type": "stream",
     "text": [
      "Starting from node 0, we visited 16 nodes\n",
      "The following nodes were visited: \n",
      "[0, 1, 3, 4, 6, 7, 8, 9, 11, 12, 13, 14, 16, 17, 18, 19]\n",
      "Starting from node 5, we visited 3 nodes\n",
      "The following nodes were visited: \n",
      "[5, 10, 15]\n"
     ]
    }
   ],
   "source": [
    "dfs(graph, 0)\n",
    "dfs(graph, 5)"
   ]
  },
  {
   "cell_type": "code",
   "execution_count": null,
   "metadata": {},
   "outputs": [],
   "source": []
  }
 ],
 "metadata": {
  "kernelspec": {
   "display_name": "Python 3",
   "language": "python",
   "name": "python3"
  },
  "language_info": {
   "codemirror_mode": {
    "name": "ipython",
    "version": 3
   },
   "file_extension": ".py",
   "mimetype": "text/x-python",
   "name": "python",
   "nbconvert_exporter": "python",
   "pygments_lexer": "ipython3",
   "version": "3.8.8"
  }
 },
 "nbformat": 4,
 "nbformat_minor": 2
}
