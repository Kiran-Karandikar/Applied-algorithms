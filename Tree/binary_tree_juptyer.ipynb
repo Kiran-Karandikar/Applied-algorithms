{
 "cells": [
  {
   "cell_type": "code",
   "execution_count": 1,
   "metadata": {},
   "outputs": [],
   "source": [
    "class Node:\n",
    "    def __init__(self, data, left=None, right=None):\n",
    "        self.data = data\n",
    "        self.left = left\n",
    "        self.right = right"
   ]
  },
  {
   "cell_type": "code",
   "execution_count": 27,
   "metadata": {},
   "outputs": [],
   "source": [
    "# define class binary tree\n",
    "class BinaryTree:\n",
    "    def __init__(self, data):\n",
    "        self.root = Node(data)\n",
    "    \n",
    "    def insert(self, data):\n",
    "        self.insert_by_node(self.root, data)\n",
    "        return\n",
    "    \n",
    "    def insert_by_node(self, node, data):\n",
    "        if data <= node.data:\n",
    "            if node.left != None:\n",
    "                self.insert_by_node(node.left, data)\n",
    "            else:\n",
    "                node.left = Node(data)\n",
    "        else:\n",
    "            if node.right!=None:\n",
    "                self.insert_by_node(node.right, data)\n",
    "            else:\n",
    "                node.right = Node(data)\n",
    "                \n",
    "    def contains(self, data):\n",
    "        return self.contains_by_node(self.root, data)\n",
    "    \n",
    "    def contains_by_node(self, node, data):\n",
    "        if node.data == data:\n",
    "            return True\n",
    "        elif node.left != None and data < node.data:\n",
    "            return self.contains_by_node(node.left, data)\n",
    "        elif node.right != None and data > node.data:\n",
    "            return self.contains_by_node(node.right, data)\n",
    "        else:\n",
    "            return False"
   ]
  },
  {
   "cell_type": "code",
   "execution_count": 28,
   "metadata": {},
   "outputs": [],
   "source": [
    "def pre_order(node):\n",
    "    # reach leaf\n",
    "    if node == None:\n",
    "        return\n",
    "\n",
    "    pre_order(node.left)\n",
    "    print(\"{}, \".format(node.data))\n",
    "    pre_order(node.right)\n",
    "        \n",
    "def pre_order_traversal(T):\n",
    "    pre_order(T.root)"
   ]
  },
  {
   "cell_type": "markdown",
   "metadata": {},
   "source": [
    "## Binary Tree\n",
    "\n",
    "- Insert data into the tree\n",
    "- Query if the certain data is inserted"
   ]
  },
  {
   "cell_type": "code",
   "execution_count": 35,
   "metadata": {},
   "outputs": [],
   "source": [
    "import random\n",
    "random.seed(10)\n",
    "dataset = [random.randint(0, 100) for x in range(15)]\n",
    "queryset = [0, 20, 13, 62, 15]\n"
   ]
  },
  {
   "cell_type": "code",
   "execution_count": 36,
   "metadata": {},
   "outputs": [
    {
     "name": "stdout",
     "output_type": "stream",
     "text": [
      "Inserting the elemetns in the binary tree\n",
      "1, \n",
      "4, \n",
      "4, \n",
      "20, \n",
      "26, \n",
      "35, \n",
      "54, \n",
      "59, \n",
      "61, \n",
      "62, \n",
      "62, \n",
      "66, \n",
      "73, \n",
      "73, \n",
      "83, \n",
      "Element to be serached .... 0\n",
      "False\n",
      "Element to be serached .... 20\n",
      "True\n",
      "Element to be serached .... 13\n",
      "False\n",
      "Element to be serached .... 62\n",
      "True\n",
      "Element to be serached .... 15\n",
      "False\n"
     ]
    }
   ],
   "source": [
    "bt = BinaryTree(dataset[0])\n",
    "\n",
    "print(\"Inserting the elemetns in the binary tree\")\n",
    "for i in range(1, len(dataset)):\n",
    "#     print(\"Before insertion ----\")\n",
    "#     print(pre_order_traversal(bt))\n",
    "#     print(\"Element to be inserted...\")\n",
    "#     print(i)\n",
    "    bt.insert(dataset[i])\n",
    "#     print(\"After insertion....\")\n",
    "#     print(pre_order_traversal(bt))\n",
    "    \n",
    "\n",
    "pre_order_traversal(bt)\n",
    "\n",
    "for i in queryset:\n",
    "    print(\"Element to be serached ....\", i)\n",
    "    print(bt.contains(i))"
   ]
  },
  {
   "cell_type": "code",
   "execution_count": null,
   "metadata": {},
   "outputs": [],
   "source": []
  },
  {
   "cell_type": "code",
   "execution_count": null,
   "metadata": {},
   "outputs": [],
   "source": []
  }
 ],
 "metadata": {
  "kernelspec": {
   "display_name": "Python 3",
   "language": "python",
   "name": "python3"
  },
  "language_info": {
   "codemirror_mode": {
    "name": "ipython",
    "version": 3
   },
   "file_extension": ".py",
   "mimetype": "text/x-python",
   "name": "python",
   "nbconvert_exporter": "python",
   "pygments_lexer": "ipython3",
   "version": "3.8.8"
  }
 },
 "nbformat": 4,
 "nbformat_minor": 2
}
