{
 "cells": [
  {
   "cell_type": "code",
   "execution_count": 15,
   "metadata": {
    "collapsed": true
   },
   "outputs": [],
   "source": [
    "def double_rec_power(x, n):\n",
    "\tif n == 0:\n",
    "\t\treturn 1\n",
    "\telif int(n) == 1:\n",
    "\t\treturn x\n",
    "\tif n % 2 == 0:\n",
    "\t\treturn double_rec_power(x, n // 2) * double_rec_power(x, n // 2)\n",
    "\telif n % 2 != 0:\n",
    "\t\treturn x * double_rec_power(x, n // 2) * double_rec_power(x, n // 2)"
   ]
  },
  {
   "cell_type": "code",
   "execution_count": 16,
   "outputs": [
    {
     "name": "stdout",
     "output_type": "stream",
     "text": [
      "81\n"
     ]
    }
   ],
   "source": [
    "print(double_rec_power(9, 2))\n",
    "\n",
    "\n"
   ],
   "metadata": {
    "collapsed": false,
    "pycharm": {
     "name": "#%%\n"
    }
   }
  }
 ],
 "metadata": {
  "kernelspec": {
   "name": "appalg",
   "language": "python",
   "display_name": "appalg"
  },
  "language_info": {
   "codemirror_mode": {
    "name": "ipython",
    "version": 2
   },
   "file_extension": ".py",
   "mimetype": "text/x-python",
   "name": "python",
   "nbconvert_exporter": "python",
   "pygments_lexer": "ipython2",
   "version": "2.7.6"
  }
 },
 "nbformat": 4,
 "nbformat_minor": 0
}